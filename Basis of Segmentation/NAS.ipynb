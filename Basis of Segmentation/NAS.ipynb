{
 "cells": [
  {
   "cell_type": "code",
   "execution_count": 1,
   "metadata": {},
   "outputs": [],
   "source": [
    "import pandas as pd\n",
    "import numpy as np\n",
    "import seaborn as sns\n",
    "import matplotlib as plt"
   ]
  },
  {
   "cell_type": "code",
   "execution_count": 9,
   "metadata": {},
   "outputs": [],
   "source": [
    "df = pd.read_csv('EDA_nas.csv')\n",
    "df.columns = df.columns.str.strip()"
   ]
  },
  {
   "cell_type": "code",
   "execution_count": 10,
   "metadata": {},
   "outputs": [
    {
     "data": {
      "text/plain": [
       "Index(['STUID', 'State', 'District', 'Gender', 'Age', 'Category',\n",
       "       'Same.language', 'Siblings', 'Handicap', 'Father.edu', 'Mother.edu',\n",
       "       'Father.occupation', 'Mother.occupation', 'Below.poverty',\n",
       "       'Use.calculator', 'Use.computer', 'Use.Internet', 'Use.dictionary',\n",
       "       'Read.other.books', 'X..Books', 'Distance', 'Computer.use',\n",
       "       'Library.use', 'Like.school', 'Subjects', 'Give.Lang.HW',\n",
       "       'Give.Math.HW', 'Give.Scie.HW', 'Give.SoSc.HW', 'Correct.Lang.HW',\n",
       "       'Correct.Math.HW', 'Correct.Scie.HW', 'Correct.SocS.HW',\n",
       "       'Help.in.Study', 'Private.tuition', 'English.is.difficult',\n",
       "       'Read.English', 'Dictionary.to.learn', 'Answer.English.WB',\n",
       "       'Answer.English.aloud', 'Maths.is.difficult', 'Solve.Maths',\n",
       "       'Solve.Maths.in.groups', 'Draw.geometry', 'Explain.answers',\n",
       "       'SocSci.is.difficult', 'Historical.excursions', 'Participate.in.SocSci',\n",
       "       'Small.groups.in.SocSci', 'Express.SocSci.views',\n",
       "       'Science.is.difficult', 'Observe.experiments', 'Conduct.experiments',\n",
       "       'Solve.science.problems', 'Express.science.views', 'Watch.TV',\n",
       "       'Read.magazine', 'Read.a.book', 'Play.games', 'Help.in.household',\n",
       "       'Maths..', 'Reading..', 'Science..', 'Social..'],\n",
       "      dtype='object')"
      ]
     },
     "execution_count": 10,
     "metadata": {},
     "output_type": "execute_result"
    }
   ],
   "source": [
    "df.columns"
   ]
  },
  {
   "cell_type": "code",
   "execution_count": 17,
   "metadata": {},
   "outputs": [],
   "source": [
    "df = df[~df['Science..'].isnull()]"
   ]
  },
  {
   "cell_type": "code",
   "execution_count": 16,
   "metadata": {},
   "outputs": [
    {
     "data": {
      "text/plain": [
       "Every day       6621\n",
       "Once a week     1479\n",
       "Never            348\n",
       "Once a month     309\n",
       "Name: Watch.TV, dtype: int64"
      ]
     },
     "execution_count": 16,
     "metadata": {},
     "output_type": "execute_result"
    }
   ],
   "source": [
    "df['Watch.TV'].value_counts()"
   ]
  },
  {
   "cell_type": "code",
   "execution_count": 38,
   "metadata": {},
   "outputs": [
    {
     "data": {
      "text/plain": [
       "Watch.TV\n",
       "Every day       36.357915\n",
       "Never           35.638589\n",
       "Once a month    36.786127\n",
       "Once a week     36.467112\n",
       "Name: Science.., dtype: float64"
      ]
     },
     "execution_count": 38,
     "metadata": {},
     "output_type": "execute_result"
    }
   ],
   "source": [
    "df.groupby(['Watch.TV'])['Science..'].mean()"
   ]
  },
  {
   "cell_type": "code",
   "execution_count": 33,
   "metadata": {},
   "outputs": [
    {
     "data": {
      "text/plain": [
       "<Figure size 720x720 with 0 Axes>"
      ]
     },
     "metadata": {},
     "output_type": "display_data"
    },
    {
     "data": {
      "image/png": "[encoded data removed]",
      "text/plain": [
       "<Figure size 180x180 with 2 Axes>"
      ]
     },
     "metadata": {
      "needs_background": "light"
     },
     "output_type": "display_data"
    }
   ],
   "source": [
    "import seaborn as sns\n",
    "import matplotlib.pyplot  as plt\n",
    "plt.figure(figsize=[10,10])\n",
    "sns.pairplot(data=df[['Watch.TV','Science..']])\n",
    "plt.show()"
   ]
  },
  {
   "cell_type": "code",
   "execution_count": 39,
   "metadata": {},
   "outputs": [
    {
     "data": {
      "text/plain": [
       "Father.edu\n",
       "Degree & above    33.330000\n",
       "Illiterate        30.720364\n",
       "Primary           30.103934\n",
       "Secondary         25.269091\n",
       "Sr secondary      30.134444\n",
       "Name: Maths.., dtype: float64"
      ]
     },
     "execution_count": 39,
     "metadata": {},
     "output_type": "execute_result"
    }
   ],
   "source": [
    "df.groupby(['Father.edu'])['Maths..'].mean()"
   ]
  },
  {
   "cell_type": "code",
   "execution_count": 42,
   "metadata": {},
   "outputs": [
    {
     "data": {
      "text/plain": [
       "<matplotlib.axes._subplots.AxesSubplot at 0x2378ef5f710>"
      ]
     },
     "execution_count": 42,
     "metadata": {},
     "output_type": "execute_result"
    },
    {
     "data": {
      "image/png": "[encoded data removed]",
      "text/plain": [
       "<Figure size 432x288 with 1 Axes>"
      ]
     },
     "metadata": {
      "needs_background": "light"
     },
     "output_type": "display_data"
    }
   ],
   "source": [
    "df.groupby(['Play.games'])['Reading..'].mean().plot.barh()"
   ]
  },
  {
   "cell_type": "markdown",
   "metadata": {},
   "source": [
    "###https://gramener.com/nas/?State=MP"
   ]
  },
  {
   "cell_type": "code",
   "execution_count": 45,
   "metadata": {},
   "outputs": [
    {
     "data": {
      "text/plain": [
       "Solve.Maths\n",
       "Agree       27.931429\n",
       "Disagree    26.681096\n",
       "Neither     32.919400\n",
       "Name: Maths.., dtype: float64"
      ]
     },
     "execution_count": 45,
     "metadata": {},
     "output_type": "execute_result"
    }
   ],
   "source": [
    "df.groupby(['Solve.Maths'])['Maths..'].mean()"
   ]
  },
  {
   "cell_type": "code",
   "execution_count": null,
   "metadata": {},
   "outputs": [],
   "source": []
  }
 ],
 "metadata": {
  "kernelspec": {
   "display_name": "Python 3",
   "language": "python",
   "name": "python3"
  },
  "language_info": {
   "codemirror_mode": {
    "name": "ipython",
    "version": 3
   },
   "file_extension": ".py",
   "mimetype": "text/x-python",
   "name": "python",
   "nbconvert_exporter": "python",
   "pygments_lexer": "ipython3",
   "version": "3.7.0"
  }
 },
 "nbformat": 4,
 "nbformat_minor": 2
}
