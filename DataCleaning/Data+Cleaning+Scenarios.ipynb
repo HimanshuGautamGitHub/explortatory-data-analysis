{
 "cells": [
  {
   "cell_type": "markdown",
   "metadata": {},
   "source": [
    "### Problem 1\n",
    "Description\n",
    "The given data frame 'customer' has a column 'Cust_id' which has values Cust_1, Cust_2 and so on.\n",
    "Remove the repeated 'Cust_' from the column Cust_id so that the output column Cust_id have just numbers like 1, 2, 3 and so on.\n",
    "Print the first 10 rows of the dataset  'customer' after processing."
   ]
  },
  {
   "cell_type": "code",
   "execution_count": 13,
   "metadata": {},
   "outputs": [
    {
     "name": "stdout",
     "output_type": "stream",
     "text": [
      "        Customer_Name Province   Region Customer_Segment Cust_id\n",
      "0  MUHAMMED MACINTYRE  NUNAVUT  NUNAVUT   SMALL BUSINESS       1\n",
      "1        BARRY FRENCH  NUNAVUT  NUNAVUT         CONSUMER       2\n",
      "2       CLAY ROZENDAL  NUNAVUT  NUNAVUT        CORPORATE       3\n",
      "3      CARLOS SOLTERO  NUNAVUT  NUNAVUT         CONSUMER       4\n",
      "4        CARL JACKSON  NUNAVUT  NUNAVUT        CORPORATE       5\n",
      "5      MONICA FEDERLE  NUNAVUT  NUNAVUT        CORPORATE       6\n",
      "6     DOROTHY BADDERS  NUNAVUT  NUNAVUT      HOME OFFICE       7\n",
      "7     NEOLA SCHNEIDER  NUNAVUT  NUNAVUT      HOME OFFICE       8\n",
      "8         CARLOS DALY  NUNAVUT  NUNAVUT      HOME OFFICE       9\n",
      "9       CLAUDIA MINER  NUNAVUT  NUNAVUT   SMALL BUSINESS      10\n"
     ]
    }
   ],
   "source": [
    "import pandas as pd\n",
    "customer = pd.read_csv('https://query.data.world/s/y9rxL9mGdP6AXPiDaIL4yYm6DsfTV2')\n",
    "customer['Cust_id'] = customer['Cust_id'].apply(lambda x: x.split('Cust_')[1])\n",
    "print(customer.head(10))"
   ]
  },
  {
   "cell_type": "code",
   "execution_count": null,
   "metadata": {},
   "outputs": [],
   "source": []
  }
 ],
 "metadata": {
  "kernelspec": {
   "display_name": "Python 3",
   "language": "python",
   "name": "python3"
  },
  "language_info": {
   "codemirror_mode": {
    "name": "ipython",
    "version": 3
   },
   "file_extension": ".py",
   "mimetype": "text/x-python",
   "name": "python",
   "nbconvert_exporter": "python",
   "pygments_lexer": "ipython3",
   "version": "3.7.0"
  }
 },
 "nbformat": 4,
 "nbformat_minor": 2
}
